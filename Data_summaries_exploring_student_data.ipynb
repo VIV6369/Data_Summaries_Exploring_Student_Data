{
 "cells": [
  {
   "cell_type": "markdown",
   "id": "815780aa",
   "metadata": {},
   "source": [
    "***Exploring Student Data***\n",
    "\n",
    "Imagine that you work for a school district and have collected some data on local students and their parents. You’ve been tasked with answering some important questions:\n",
    "\n",
    "How are students performing in their math classes?\n",
    "What do students’ parents do for work?\n",
    "How often are students absent from school?\n",
    "In this project, you’ll explore and summarize some student data in order to answer these questions."
   ]
  },
  {
   "cell_type": "markdown",
   "id": "fd6f9083",
   "metadata": {},
   "source": [
    "**Initial exploration**\n",
    "\n",
    "The provided dataframe (saved as students) includes the following variables/features:\n",
    "\n",
    "* 'address': the location of the student’s home ('U' for urban and 'R' for rural)\n",
    "* 'absences': the number of times the student was absent during the school year\n",
    "* 'Mjob': the student’s mother’s job industry\n",
    "* 'Fjob': the student’s father’s job industry\n",
    "* 'math_grade': the student’s final grade in math, ranging from 0 to 20\n",
    "\n",
    "Use the pandas .head() method to inspect the first few rows of data.\n"
   ]
  },
  {
   "cell_type": "code",
   "execution_count": 2,
   "id": "6c9b1811",
   "metadata": {},
   "outputs": [
    {
     "name": "stdout",
     "output_type": "stream",
     "text": [
      "  address  absences     Mjob      Fjob  math_grade\n",
      "0       U         6  at_home   teacher           6\n",
      "1       U         4  at_home     other           6\n",
      "2       U        10  at_home     other          10\n",
      "3       U         2   health  services          15\n",
      "4       U         4    other     other          10\n"
     ]
    }
   ],
   "source": [
    "# Load libraries\n",
    "import pandas as pd\n",
    "import numpy as np\n",
    "import matplotlib.pyplot as plt\n",
    "import seaborn as sns\n",
    "\n",
    "# Import data\n",
    "students = pd.read_csv('students.csv')\n",
    "# Print first few rows of data\n",
    "print(students.head())"
   ]
  },
  {
   "cell_type": "markdown",
   "id": "99d533c0",
   "metadata": {},
   "source": [
    "Use the pandas .describe() method to print out summary statistics for all five features in the dataset. Inspect the output. Do more students live in urban or rural locations?"
   ]
  },
  {
   "cell_type": "code",
   "execution_count": 4,
   "id": "c0084688",
   "metadata": {},
   "outputs": [
    {
     "name": "stdout",
     "output_type": "stream",
     "text": [
      "       address    absences   Mjob   Fjob  math_grade\n",
      "count      395  395.000000    395    395  395.000000\n",
      "unique       2         NaN      5      5         NaN\n",
      "top          U         NaN  other  other         NaN\n",
      "freq       307         NaN    141    217         NaN\n",
      "mean       NaN    5.708861    NaN    NaN   10.415190\n",
      "std        NaN    8.003096    NaN    NaN    4.581443\n",
      "min        NaN    0.000000    NaN    NaN    0.000000\n",
      "25%        NaN    0.000000    NaN    NaN    8.000000\n",
      "50%        NaN    4.000000    NaN    NaN   11.000000\n",
      "75%        NaN    8.000000    NaN    NaN   14.000000\n",
      "max        NaN   75.000000    NaN    NaN   20.000000\n"
     ]
    }
   ],
   "source": [
    "# Print summary statistics for all columns\n",
    "print(students.describe(include='all'))"
   ]
  },
  {
   "cell_type": "markdown",
   "id": "1845baf2",
   "metadata": {},
   "source": [
    "Let’s start by trying to summarize the math_grade column. Calculate and print the mean, median and mode value of math_grade."
   ]
  },
  {
   "cell_type": "code",
   "execution_count": 23,
   "id": "059737b3",
   "metadata": {},
   "outputs": [
    {
     "name": "stdout",
     "output_type": "stream",
     "text": [
      "10.4\n"
     ]
    }
   ],
   "source": [
    "# Calculate mean\n",
    "math_grade_mean = students.math_grade.mean()\n",
    "print(round(math_grade_mean, 1))"
   ]
  },
  {
   "cell_type": "code",
   "execution_count": 6,
   "id": "ea2d85d8",
   "metadata": {},
   "outputs": [
    {
     "name": "stdout",
     "output_type": "stream",
     "text": [
      "11.0\n"
     ]
    }
   ],
   "source": [
    "# Calculate median\n",
    "math_grade_median = students.math_grade.median()\n",
    "print(math_grade_median)"
   ]
  },
  {
   "cell_type": "code",
   "execution_count": 7,
   "id": "b56a2e82",
   "metadata": {},
   "outputs": [
    {
     "name": "stdout",
     "output_type": "stream",
     "text": [
      "0    10\n",
      "dtype: int64\n"
     ]
    }
   ],
   "source": [
    "# Calculate mode\n",
    "math_grade_mode = students.math_grade.mode()\n",
    "print(math_grade_mode)"
   ]
  },
  {
   "cell_type": "markdown",
   "id": "849d6ced",
   "metadata": {},
   "source": [
    "Summarize the spread of student grades. Calculate and print the range, standart deviation and mean absolute deviation of the math_grade column."
   ]
  },
  {
   "cell_type": "code",
   "execution_count": 8,
   "id": "04bd4870",
   "metadata": {},
   "outputs": [
    {
     "name": "stdout",
     "output_type": "stream",
     "text": [
      "20\n"
     ]
    }
   ],
   "source": [
    "# Calculate range\n",
    "math_grade_range = students.math_grade.max() - students.math_grade.min()\n",
    "print(math_grade_range)"
   ]
  },
  {
   "cell_type": "code",
   "execution_count": 22,
   "id": "f5bca43b",
   "metadata": {},
   "outputs": [
    {
     "name": "stdout",
     "output_type": "stream",
     "text": [
      "4.6\n"
     ]
    }
   ],
   "source": [
    "math_grade_std = students.math_grade.std()\n",
    "print(round(math_grade_std, 1))"
   ]
  },
  {
   "cell_type": "markdown",
   "id": "bc9eba75",
   "metadata": {},
   "source": [
    "The standard deviation is about 4.6, while the average grade is about 10.4. This means that about two thirds of students are earning a grade between 5.8 (calculated as 10.4 - 4.6) and 15 (calculated as 10.4 + 4.6)."
   ]
  },
  {
   "cell_type": "code",
   "execution_count": 24,
   "id": "14cdffed",
   "metadata": {},
   "outputs": [
    {
     "name": "stdout",
     "output_type": "stream",
     "text": [
      "3.4\n"
     ]
    }
   ],
   "source": [
    "# Calculate MAD\n",
    "math_grade_mad = students.math_grade.mad()\n",
    "print(round(math_grade_mad, 1))"
   ]
  },
  {
   "cell_type": "markdown",
   "id": "ade13f0c",
   "metadata": {},
   "source": [
    "Visualize the distribution of student grades"
   ]
  },
  {
   "cell_type": "code",
   "execution_count": 12,
   "id": "af1822fb",
   "metadata": {},
   "outputs": [
    {
     "data": {
      "image/png": "[encoded data removed]",
      "text/plain": [
       "<Figure size 432x288 with 1 Axes>"
      ]
     },
     "metadata": {
      "needs_background": "light"
     },
     "output_type": "display_data"
    },
    {
     "data": {
      "text/plain": [
       "<Figure size 432x288 with 0 Axes>"
      ]
     },
     "metadata": {},
     "output_type": "display_data"
    }
   ],
   "source": [
    "# Create a histogram of math grades\n",
    "sns.histplot(x='math_grade', data=students)\n",
    "plt.show()\n",
    "plt.clf()"
   ]
  },
  {
   "cell_type": "code",
   "execution_count": 13,
   "id": "bf5811f1",
   "metadata": {},
   "outputs": [
    {
     "data": {
      "image/png": "[encoded data removed]",
      "text/plain": [
       "<Figure size 432x288 with 1 Axes>"
      ]
     },
     "metadata": {
      "needs_background": "light"
     },
     "output_type": "display_data"
    },
    {
     "data": {
      "text/plain": [
       "<Figure size 432x288 with 0 Axes>"
      ]
     },
     "metadata": {},
     "output_type": "display_data"
    }
   ],
   "source": [
    "# Create a box plot of math grades\n",
    "sns.boxplot(x='math_grade', data=students)\n",
    "plt.show()\n",
    "plt.clf()"
   ]
  },
  {
   "cell_type": "markdown",
   "id": "f21bed7a",
   "metadata": {},
   "source": [
    "Summarize mothers' jobs"
   ]
  },
  {
   "cell_type": "code",
   "execution_count": 14,
   "id": "3b9a707b",
   "metadata": {},
   "outputs": [
    {
     "name": "stdout",
     "output_type": "stream",
     "text": [
      "other       141\n",
      "services    103\n",
      "at_home      59\n",
      "teacher      58\n",
      "health       34\n",
      "Name: Mjob, dtype: int64\n"
     ]
    }
   ],
   "source": [
    "# Calculate number of students with mothers in each job category\n",
    "print(students.Mjob.value_counts())\n",
    "# 'other' category is most common"
   ]
  },
  {
   "cell_type": "code",
   "execution_count": 15,
   "id": "fd3b9814",
   "metadata": {},
   "outputs": [
    {
     "name": "stdout",
     "output_type": "stream",
     "text": [
      "other       0.356962\n",
      "services    0.260759\n",
      "at_home     0.149367\n",
      "teacher     0.146835\n",
      "health      0.086076\n",
      "Name: Mjob, dtype: float64\n"
     ]
    }
   ],
   "source": [
    "# Calculate proportion of students with mothers in each job category\n",
    "print(students.Mjob.value_counts(normalize=True))\n",
    "# 8.6% of students mothers work in health industry"
   ]
  },
  {
   "cell_type": "markdown",
   "id": "5054204d",
   "metadata": {},
   "source": [
    "Visualize the distribution of mothers' jobs"
   ]
  },
  {
   "cell_type": "code",
   "execution_count": 16,
   "id": "9bbb4e38",
   "metadata": {},
   "outputs": [
    {
     "data": {
      "image/png": "[encoded data removed]",
      "text/plain": [
       "<Figure size 432x288 with 1 Axes>"
      ]
     },
     "metadata": {
      "needs_background": "light"
     },
     "output_type": "display_data"
    },
    {
     "data": {
      "text/plain": [
       "<Figure size 432x288 with 0 Axes>"
      ]
     },
     "metadata": {},
     "output_type": "display_data"
    }
   ],
   "source": [
    "# Create bar chart of Mjob\n",
    "sns.countplot(x='Mjob', data=students)\n",
    "plt.show()\n",
    "plt.clf()"
   ]
  },
  {
   "cell_type": "code",
   "execution_count": 17,
   "id": "b41e24c9",
   "metadata": {},
   "outputs": [
    {
     "data": {
      "image/png": "[encoded data removed]",
      "text/plain": [
       "<Figure size 432x288 with 1 Axes>"
      ]
     },
     "metadata": {},
     "output_type": "display_data"
    },
    {
     "data": {
      "text/plain": [
       "<Figure size 432x288 with 0 Axes>"
      ]
     },
     "metadata": {},
     "output_type": "display_data"
    }
   ],
   "source": [
    "# Create pie chart of Mjob\n",
    "students.Mjob.value_counts().plot.pie()\n",
    "plt.show()\n",
    "plt.clf()"
   ]
  },
  {
   "cell_type": "markdown",
   "id": "3e053976",
   "metadata": {},
   "source": [
    "There are still a few more columns in this dataset that we haven’t looked at carefully:\n",
    "\n",
    "* 'address': the location of the student’s home ('U' for urban and 'R' for rural)\n",
    "* 'absences': the number of times the student was absent during the school year\n",
    "* 'Fjob': the student’s father’s job industry"
   ]
  },
  {
   "cell_type": "code",
   "execution_count": 26,
   "id": "ea2a5bf2",
   "metadata": {},
   "outputs": [
    {
     "name": "stdout",
     "output_type": "stream",
     "text": [
      "U    0.777215\n",
      "R    0.222785\n",
      "Name: address, dtype: float64\n"
     ]
    }
   ],
   "source": [
    "# Calculate proportion of students who live in urban and rural\n",
    "print(students.address.value_counts(normalize=True))\n",
    "# 78% live in urban area and 22% live in rural area"
   ]
  },
  {
   "cell_type": "code",
   "execution_count": 27,
   "id": "358109e7",
   "metadata": {},
   "outputs": [
    {
     "name": "stdout",
     "output_type": "stream",
     "text": [
      "5.7\n",
      "4.2\n"
     ]
    },
    {
     "data": {
      "image/png": "[encoded data removed]",
      "text/plain": [
       "<Figure size 432x288 with 1 Axes>"
      ]
     },
     "metadata": {
      "needs_background": "light"
     },
     "output_type": "display_data"
    },
    {
     "data": {
      "text/plain": [
       "<Figure size 432x288 with 0 Axes>"
      ]
     },
     "metadata": {},
     "output_type": "display_data"
    }
   ],
   "source": [
    "# Calculate absences mean\n",
    "absences_mean = students.absences.mean()\n",
    "print(round(absences_mean, 1))\n",
    "# Calculate treamed mean for absences removing 10% of lowest and highest data points\n",
    "from scipy.stats import trim_mean\n",
    "trmean_absences = trim_mean(students.absences, proportiontocut=0.1) \n",
    "print(round(trmean_absences, 1))\n",
    "\n",
    "# Create a histogram of absences\n",
    "sns.histplot(x='absences', data=students)\n",
    "plt.show()\n",
    "plt.clf()\n"
   ]
  },
  {
   "cell_type": "code",
   "execution_count": 28,
   "id": "fe3407d4",
   "metadata": {},
   "outputs": [
    {
     "data": {
      "image/png": "[encoded data removed]",
      "text/plain": [
       "<Figure size 432x288 with 1 Axes>"
      ]
     },
     "metadata": {
      "needs_background": "light"
     },
     "output_type": "display_data"
    },
    {
     "data": {
      "text/plain": [
       "<Figure size 432x288 with 0 Axes>"
      ]
     },
     "metadata": {},
     "output_type": "display_data"
    }
   ],
   "source": [
    "# Create bar chart of Fjob\n",
    "sns.countplot(x='Fjob', data=students)\n",
    "plt.show()\n",
    "plt.clf()"
   ]
  }
 ],
 "metadata": {
  "kernelspec": {
   "display_name": "Python 3 (ipykernel)",
   "language": "python",
   "name": "python3"
  },
  "language_info": {
   "codemirror_mode": {
    "name": "ipython",
    "version": 3
   },
   "file_extension": ".py",
   "mimetype": "text/x-python",
   "name": "python",
   "nbconvert_exporter": "python",
   "pygments_lexer": "ipython3",
   "version": "3.9.7"
  }
 },
 "nbformat": 4,
 "nbformat_minor": 5
}
